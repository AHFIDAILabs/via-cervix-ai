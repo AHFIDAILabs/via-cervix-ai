{
 "cells": [
  {
   "cell_type": "markdown",
   "id": "7c3cdd91",
   "metadata": {},
   "source": [
    "**Standard dictionaries are not designed for dot notation, which is why d.key throw an AttributeError. The error that occurs when trying to access a value using dot notation `(d.key)` instead of bracket notation `(d['key'])`.**"
   ]
  },
  {
   "cell_type": "code",
   "execution_count": 1,
   "id": "8bb55bb6",
   "metadata": {},
   "outputs": [],
   "source": [
    "# config box\n",
    "d = {\"key\":\"val\", \"key1\":\"val1\"}"
   ]
  },
  {
   "cell_type": "code",
   "execution_count": 2,
   "id": "f88f3818",
   "metadata": {},
   "outputs": [
    {
     "data": {
      "text/plain": [
       "'val1'"
      ]
     },
     "execution_count": 2,
     "metadata": {},
     "output_type": "execute_result"
    }
   ],
   "source": [
    "d['key1']"
   ]
  },
  {
   "cell_type": "code",
   "execution_count": 3,
   "id": "b0ed7471",
   "metadata": {},
   "outputs": [
    {
     "ename": "AttributeError",
     "evalue": "'dict' object has no attribute 'key'",
     "output_type": "error",
     "traceback": [
      "\u001b[31m---------------------------------------------------------------------------\u001b[39m",
      "\u001b[31mAttributeError\u001b[39m                            Traceback (most recent call last)",
      "\u001b[36mCell\u001b[39m\u001b[36m \u001b[39m\u001b[32mIn[3]\u001b[39m\u001b[32m, line 1\u001b[39m\n\u001b[32m----> \u001b[39m\u001b[32m1\u001b[39m \u001b[43md\u001b[49m\u001b[43m.\u001b[49m\u001b[43mkey\u001b[49m\n",
      "\u001b[31mAttributeError\u001b[39m: 'dict' object has no attribute 'key'"
     ]
    }
   ],
   "source": [
    "d.key"
   ]
  },
  {
   "cell_type": "markdown",
   "id": "746d7f4f",
   "metadata": {},
   "source": [
    "**ConfigBox is a subclass of the dictionary (dict) class that allows for accessing key-value pairs using both bracket and dot notation.**\n",
    "* By converting a dictionary to a ConfigBox object, you can access values as if they were attributes, which can make the code cleaner and more readable, especially when dealing with complex configuration files or nested data structures. \n",
    "* It simplifies the syntax and makes the code look more object-oriented, particularly useful in machine learning and data science projects where you often load configurations from JSON or YAML files."
   ]
  },
  {
   "cell_type": "code",
   "execution_count": 1,
   "id": "23ec1107",
   "metadata": {},
   "outputs": [
    {
     "data": {
      "text/plain": [
       "'val'"
      ]
     },
     "execution_count": 1,
     "metadata": {},
     "output_type": "execute_result"
    }
   ],
   "source": [
    "from box import ConfigBox\n",
    "d2 = ConfigBox({\"key\":\"val\", \"key1\":\"val1\"})\n",
    "d2.key"
   ]
  },
  {
   "cell_type": "code",
   "execution_count": 2,
   "id": "0ffc9a54",
   "metadata": {},
   "outputs": [
    {
     "data": {
      "text/plain": [
       "box.config_box.ConfigBox"
      ]
     },
     "execution_count": 2,
     "metadata": {},
     "output_type": "execute_result"
    }
   ],
   "source": [
    "type(d2)"
   ]
  },
  {
   "cell_type": "markdown",
   "id": "41a6a0fe",
   "metadata": {},
   "source": [
    "**Ensure Annotations**\n",
    "\n",
    "The second example highlights a common issue in Python, which is a dynamically typed language. In the first instance of the get_product function, you can pass a string ('3') to the y parameter even though the function signature suggests it should be an integer (y: int). The code runs without error and produces an unexpected result (33) because Python's string concatenation behavior is different from its integer multiplication. This behavior can lead to subtle and hard-to-debug errors.\n",
    "\n",
    "ensure_annotations is a decorator from the ensure library that enforces type hints at runtime. When you decorate a function with @ensure_annotations, it checks if the arguments passed to the function match the specified type hints. If a type mismatch occurs, as seen when a string is passed instead of an integer, the decorator raises an EnsureError. This behavior helps to:\n",
    "\n",
    "* Prevent Runtime Errors: Catches type-related bugs before they cause unexpected program behavior.\n",
    "\n",
    "* Improve Code Reliability: Ensures that functions receive the data types they are designed to handle, leading to more predictable outcomes.\n",
    "\n",
    "* Enhance Code Readability: Reinforces the purpose of type hints, making the code's intent clearer to other developers."
   ]
  },
  {
   "cell_type": "code",
   "execution_count": 3,
   "id": "4f9f3eb4",
   "metadata": {},
   "outputs": [],
   "source": [
    "# ensure annotations \n",
    "def get_product(x:int, y:int) -> int:\n",
    "    return x*y"
   ]
  },
  {
   "cell_type": "code",
   "execution_count": 6,
   "id": "873e1ea1",
   "metadata": {},
   "outputs": [
    {
     "name": "stdout",
     "output_type": "stream",
     "text": [
      "12\n",
      "33\n"
     ]
    }
   ],
   "source": [
    "print(get_product(x=4, y=3))\n",
    "print(get_product(x=2, y='3'))"
   ]
  },
  {
   "cell_type": "code",
   "execution_count": 7,
   "id": "6bef9b9a",
   "metadata": {},
   "outputs": [],
   "source": [
    "from ensure import ensure_annotations\n",
    "@ensure_annotations\n",
    "def get_product(x:int, y:int) -> int:\n",
    "    return x*y"
   ]
  },
  {
   "cell_type": "code",
   "execution_count": 8,
   "id": "93f300af",
   "metadata": {},
   "outputs": [
    {
     "name": "stdout",
     "output_type": "stream",
     "text": [
      "12\n"
     ]
    },
    {
     "ename": "EnsureError",
     "evalue": "Argument y of type <class 'str'> to <function get_product at 0x00000121CE4C39C0> does not match annotation type <class 'int'>",
     "output_type": "error",
     "traceback": [
      "\u001b[31m---------------------------------------------------------------------------\u001b[39m",
      "\u001b[31mEnsureError\u001b[39m                               Traceback (most recent call last)",
      "\u001b[36mCell\u001b[39m\u001b[36m \u001b[39m\u001b[32mIn[8]\u001b[39m\u001b[32m, line 2\u001b[39m\n\u001b[32m      1\u001b[39m \u001b[38;5;28mprint\u001b[39m(get_product(x=\u001b[32m4\u001b[39m, y=\u001b[32m3\u001b[39m))\n\u001b[32m----> \u001b[39m\u001b[32m2\u001b[39m \u001b[38;5;28mprint\u001b[39m(\u001b[43mget_product\u001b[49m\u001b[43m(\u001b[49m\u001b[43mx\u001b[49m\u001b[43m=\u001b[49m\u001b[32;43m4\u001b[39;49m\u001b[43m,\u001b[49m\u001b[43m \u001b[49m\u001b[43my\u001b[49m\u001b[43m=\u001b[49m\u001b[33;43m'\u001b[39;49m\u001b[33;43m3\u001b[39;49m\u001b[33;43m'\u001b[39;49m\u001b[43m)\u001b[49m)\n",
      "\u001b[36mFile \u001b[39m\u001b[32mc:\\09_AHFID\\via-cervix-ai\\venv-ave\\Lib\\site-packages\\ensure\\main.py:845\u001b[39m, in \u001b[36mWrappedFunctionReturn.__call__\u001b[39m\u001b[34m(self, *args, **kwargs)\u001b[39m\n\u001b[32m    840\u001b[39m     \u001b[38;5;28;01mif\u001b[39;00m \u001b[38;5;129;01mnot\u001b[39;00m \u001b[38;5;28misinstance\u001b[39m(value, templ):\n\u001b[32m    841\u001b[39m         msg = (\n\u001b[32m    842\u001b[39m             \u001b[33m\"\u001b[39m\u001b[33mArgument \u001b[39m\u001b[38;5;132;01m{arg}\u001b[39;00m\u001b[33m of type \u001b[39m\u001b[38;5;132;01m{valt}\u001b[39;00m\u001b[33m to \u001b[39m\u001b[38;5;132;01m{f}\u001b[39;00m\u001b[33m \u001b[39m\u001b[33m\"\u001b[39m\n\u001b[32m    843\u001b[39m             \u001b[33m\"\u001b[39m\u001b[33mdoes not match annotation type \u001b[39m\u001b[38;5;132;01m{t}\u001b[39;00m\u001b[33m\"\u001b[39m\n\u001b[32m    844\u001b[39m         )\n\u001b[32m--> \u001b[39m\u001b[32m845\u001b[39m         \u001b[38;5;28;01mraise\u001b[39;00m EnsureError(msg.format(\n\u001b[32m    846\u001b[39m             arg=arg, f=\u001b[38;5;28mself\u001b[39m.f, t=templ, valt=\u001b[38;5;28mtype\u001b[39m(value)\n\u001b[32m    847\u001b[39m         ))\n\u001b[32m    849\u001b[39m return_val = \u001b[38;5;28mself\u001b[39m.f(*args, **kwargs)\n\u001b[32m    850\u001b[39m \u001b[38;5;28;01mif\u001b[39;00m \u001b[38;5;129;01mnot\u001b[39;00m \u001b[38;5;28misinstance\u001b[39m(return_val, \u001b[38;5;28mself\u001b[39m.return_templ):\n",
      "\u001b[31mEnsureError\u001b[39m: Argument y of type <class 'str'> to <function get_product at 0x00000121CE4C39C0> does not match annotation type <class 'int'>"
     ]
    }
   ],
   "source": [
    "print(get_product(x=4, y=3))\n",
    "print(get_product(x=4, y='3'))"
   ]
  },
  {
   "cell_type": "code",
   "execution_count": 9,
   "id": "523fe680",
   "metadata": {},
   "outputs": [],
   "source": [
    "import gdown"
   ]
  },
  {
   "cell_type": "code",
   "execution_count": 10,
   "id": "12ade453",
   "metadata": {},
   "outputs": [],
   "source": [
    "url = \"https://drive.google.com/file/d/1lFvuTpzdfSAckyjtHZzE2HWqsH25sa1q/view?usp=sharing\""
   ]
  },
  {
   "cell_type": "code",
   "execution_count": 11,
   "id": "4de6cdab",
   "metadata": {},
   "outputs": [
    {
     "data": {
      "text/plain": [
       "'1lFvuTpzdfSAckyjtHZzE2HWqsH25sa1q'"
      ]
     },
     "execution_count": 11,
     "metadata": {},
     "output_type": "execute_result"
    }
   ],
   "source": [
    "file_id = url.split(\"/\")[-2]\n",
    "file_id"
   ]
  },
  {
   "cell_type": "code",
   "execution_count": 12,
   "id": "5fd6c79b",
   "metadata": {},
   "outputs": [
    {
     "name": "stderr",
     "output_type": "stream",
     "text": [
      "Downloading...\n",
      "From: https://drive.google.com/uc?/export=download&id=1lFvuTpzdfSAckyjtHZzE2HWqsH25sa1q\n",
      "To: c:\\09_AHFID\\via-cervix-ai\\notebook\\via-cervix.zip\n",
      "100%|██████████| 23.9M/23.9M [00:54<00:00, 437kB/s]\n"
     ]
    },
    {
     "data": {
      "text/plain": [
       "'via-cervix.zip'"
      ]
     },
     "execution_count": 12,
     "metadata": {},
     "output_type": "execute_result"
    }
   ],
   "source": [
    "prefix = 'https://drive.google.com/uc?/export=download&id='\n",
    "gdown.download(prefix+file_id, \"via-cervix.zip\")"
   ]
  }
 ],
 "metadata": {
  "kernelspec": {
   "display_name": "venv-ave",
   "language": "python",
   "name": "python3"
  },
  "language_info": {
   "codemirror_mode": {
    "name": "ipython",
    "version": 3
   },
   "file_extension": ".py",
   "mimetype": "text/x-python",
   "name": "python",
   "nbconvert_exporter": "python",
   "pygments_lexer": "ipython3",
   "version": "3.11.9"
  }
 },
 "nbformat": 4,
 "nbformat_minor": 5
}
