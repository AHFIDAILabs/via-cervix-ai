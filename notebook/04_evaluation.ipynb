{
 "cells": [
  {
   "cell_type": "code",
   "execution_count": 1,
   "id": "e47282d5",
   "metadata": {},
   "outputs": [
    {
     "data": {
      "text/plain": [
       "'c:\\\\09_AHFID\\\\via-cervix-ai\\\\notebook'"
      ]
     },
     "execution_count": 1,
     "metadata": {},
     "output_type": "execute_result"
    }
   ],
   "source": [
    "import os\n",
    "\n",
    "%pwd"
   ]
  },
  {
   "cell_type": "code",
   "execution_count": 2,
   "id": "c2ff8fce",
   "metadata": {},
   "outputs": [
    {
     "data": {
      "text/plain": [
       "'c:\\\\09_AHFID\\\\via-cervix-ai'"
      ]
     },
     "execution_count": 2,
     "metadata": {},
     "output_type": "execute_result"
    }
   ],
   "source": [
    "os.chdir(\"../\")\n",
    "%pwd"
   ]
  },
  {
   "cell_type": "markdown",
   "id": "0ce90496",
   "metadata": {},
   "source": [
    "### Import and setup"
   ]
  },
  {
   "cell_type": "code",
   "execution_count": 3,
   "id": "9e8c6ed7",
   "metadata": {},
   "outputs": [
    {
     "name": "stdout",
     "output_type": "stream",
     "text": [
      "Loaded 38 labels and 38 prediction probabilities\n"
     ]
    }
   ],
   "source": [
    "import numpy as np\n",
    "import pandas as pd\n",
    "import json\n",
    "from pathlib import Path\n",
    "from sklearn.metrics import (\n",
    "    classification_report,\n",
    "    confusion_matrix,\n",
    "    roc_auc_score,\n",
    "    roc_curve,\n",
    "    auc,\n",
    "    precision_recall_curve,\n",
    "    average_precision_score\n",
    ")\n",
    "from sklearn.calibration import calibration_curve\n",
    "from sklearn.utils import resample\n",
    "import matplotlib.pyplot as plt\n",
    "import seaborn as sns\n",
    "from scipy import stats\n",
    "\n",
    "# Enhanced evaluation with statistical rigor for medical AI\n",
    "\n",
    "# Paths\n",
    "RESULTS_DIR = Path(\"artifacts/training_runs\")\n",
    "EVAL_LABELS = RESULTS_DIR / \"eval_labels.npy\"\n",
    "EVAL_PROBS  = RESULTS_DIR / \"eval_probs.npy\"\n",
    "\n",
    "CLASS_NAMES = [\"Negative\", \"Positive\", \"Suspicious cancer\"]\n",
    "\n",
    "# Load data\n",
    "labels = np.load(EVAL_LABELS)  # shape N\n",
    "probs  = np.load(EVAL_PROBS)   # shape N x 3\n",
    "print(f\"Loaded {len(labels)} labels and {probs.shape[0]} prediction probabilities\")"
   ]
  },
  {
   "cell_type": "markdown",
   "id": "269f1d4c",
   "metadata": {},
   "source": [
    "### Calculate confidence intervals for metrics with bootstrap"
   ]
  },
  {
   "cell_type": "code",
   "execution_count": 4,
   "id": "4ed71955",
   "metadata": {},
   "outputs": [],
   "source": [
    "def bootstrap_metric(y_true, y_pred, metric_func, n_bootstrap=1000, confidence_level=0.95):\n",
    "    \"\"\"Calculate confidence intervals for metrics using bootstrap\"\"\"\n",
    "    scores = []\n",
    "    n_samples = len(y_true)\n",
    "    \n",
    "    for _ in range(n_bootstrap):\n",
    "        # Bootstrap sample\n",
    "        indices = resample(range(n_samples), n_samples=n_samples, random_state=None)\n",
    "        y_true_boot = y_true[indices]\n",
    "        y_pred_boot = y_pred[indices] if y_pred.ndim == 1 else y_pred[indices]\n",
    "        \n",
    "        try:\n",
    "            score = metric_func(y_true_boot, y_pred_boot)\n",
    "            scores.append(score)\n",
    "        except:\n",
    "            continue\n",
    "    \n",
    "    scores = np.array(scores)\n",
    "    alpha = 1 - confidence_level\n",
    "    lower = np.percentile(scores, (alpha/2) * 100)\n",
    "    upper = np.percentile(scores, (1 - alpha/2) * 100)\n",
    "    mean_score = np.mean(scores)\n",
    "    \n",
    "    return mean_score, lower, upper"
   ]
  },
  {
   "cell_type": "markdown",
   "id": "3ef800a5",
   "metadata": {},
   "source": [
    "### basic classification report and confusion matrix"
   ]
  },
  {
   "cell_type": "code",
   "execution_count": 5,
   "id": "55c4afed",
   "metadata": {},
   "outputs": [
    {
     "name": "stdout",
     "output_type": "stream",
     "text": [
      "Confusion Matrix:\n",
      "                   Negative  Positive  Suspicious cancer\n",
      "Negative                  8         2                  9\n",
      "Positive                  4         1                 10\n",
      "Suspicious cancer         0         0                  4\n"
     ]
    }
   ],
   "source": [
    "# Basic classification report with confidence intervals\n",
    "preds = np.argmax(probs, axis=1)\n",
    "report = classification_report(labels, preds, target_names=CLASS_NAMES, output_dict=True, zero_division=0)\n",
    "cm = confusion_matrix(labels, preds)\n",
    "\n",
    "print(\"Confusion Matrix:\")\n",
    "print(pd.DataFrame(cm, index=CLASS_NAMES, columns=CLASS_NAMES))"
   ]
  },
  {
   "cell_type": "markdown",
   "id": "48932b89",
   "metadata": {},
   "source": [
    "### sensitivity and specificity per class"
   ]
  },
  {
   "cell_type": "code",
   "execution_count": 6,
   "id": "773d9606",
   "metadata": {},
   "outputs": [
    {
     "name": "stdout",
     "output_type": "stream",
     "text": [
      "Negative:\n",
      "  Sensitivity: 0.422 [0.211, 0.647]\n",
      "  Specificity: 0.784 [0.579, 0.950]\n",
      "Positive:\n",
      "  Sensitivity: 0.069 [0.000, 0.214]\n",
      "  Specificity: 0.913 [0.778, 1.000]\n",
      "Suspicious cancer:\n",
      "  Sensitivity: 0.986 [1.000, 1.000]\n",
      "  Specificity: 0.440 [0.270, 0.611]\n"
     ]
    }
   ],
   "source": [
    "# Enhanced sensitivity/specificity with confidence intervals\n",
    "def sensitivity_specificity_ci(y_true, y_pred, n_bootstrap=1000):\n",
    "    \"\"\"Calculate sensitivity and specificity with confidence intervals for each class\"\"\"\n",
    "    results = {}\n",
    "    \n",
    "    for i, class_name in enumerate(CLASS_NAMES):\n",
    "        y_true_binary = (y_true == i).astype(int)\n",
    "        y_pred_binary = (y_pred == i).astype(int)\n",
    "        \n",
    "        def sensitivity_func(yt, yp):\n",
    "            cm_temp = confusion_matrix(yt, yp, labels=[0, 1])\n",
    "            if len(cm_temp) < 2:\n",
    "                return 0.0\n",
    "            tp = cm_temp[1, 1]\n",
    "            fn = cm_temp[1, 0]\n",
    "            return tp / (tp + fn + 1e-8)\n",
    "        \n",
    "        def specificity_func(yt, yp):\n",
    "            cm_temp = confusion_matrix(yt, yp, labels=[0, 1])\n",
    "            if len(cm_temp) < 2:\n",
    "                return 0.0\n",
    "            tn = cm_temp[0, 0]\n",
    "            fp = cm_temp[0, 1]\n",
    "            return tn / (tn + fp + 1e-8)\n",
    "        \n",
    "        sens_mean, sens_low, sens_high = bootstrap_metric(y_true_binary, y_pred_binary, sensitivity_func)\n",
    "        spec_mean, spec_low, spec_high = bootstrap_metric(y_true_binary, y_pred_binary, specificity_func)\n",
    "        \n",
    "        results[class_name] = {\n",
    "            'sensitivity': (sens_mean, sens_low, sens_high),\n",
    "            'specificity': (spec_mean, spec_low, spec_high)\n",
    "        }\n",
    "        \n",
    "        print(f\"{class_name}:\")\n",
    "        print(f\"  Sensitivity: {sens_mean:.3f} [{sens_low:.3f}, {sens_high:.3f}]\")\n",
    "        print(f\"  Specificity: {spec_mean:.3f} [{spec_low:.3f}, {spec_high:.3f}]\")\n",
    "    \n",
    "    return results\n",
    "\n",
    "sens_spec_results = sensitivity_specificity_ci(labels, preds)\n"
   ]
  },
  {
   "cell_type": "markdown",
   "id": "5cfacde5",
   "metadata": {},
   "source": [
    "### ROC AUC per class (one-vs-rest)"
   ]
  },
  {
   "cell_type": "code",
   "execution_count": 7,
   "id": "d582115d",
   "metadata": {},
   "outputs": [
    {
     "name": "stdout",
     "output_type": "stream",
     "text": [
      "Negative AUC: 0.704 [0.521, 0.865]\n",
      "Positive AUC: 0.465 [0.268, 0.667]\n",
      "Suspicious cancer AUC: 0.749 [0.486, 1.000]\n"
     ]
    },
    {
     "data": {
      "image/png": "[encoded data removed]",
      "text/plain": [
       "<Figure size 1200x400 with 3 Axes>"
      ]
     },
     "metadata": {},
     "output_type": "display_data"
    }
   ],
   "source": [
    "# ROC AUC with confidence intervals\n",
    "def compute_auc_ci(y_true, y_score, n_bootstrap=1000):\n",
    "    \"\"\"Compute AUC with confidence intervals\"\"\"\n",
    "    def auc_func(yt, ys):\n",
    "        if len(np.unique(yt)) < 2:\n",
    "            return 0.5\n",
    "        fpr, tpr, _ = roc_curve(yt, ys)\n",
    "        return auc(fpr, tpr)\n",
    "    \n",
    "    return bootstrap_metric(y_true, y_score, auc_func, n_bootstrap)\n",
    "\n",
    "auc_results = {}\n",
    "for i, cname in enumerate(CLASS_NAMES):\n",
    "    y_true_binary = (labels == i).astype(int)\n",
    "    y_score = probs[:, i]\n",
    "    \n",
    "    auc_mean, auc_low, auc_high = compute_auc_ci(y_true_binary, y_score)\n",
    "    auc_results[cname] = (auc_mean, auc_low, auc_high)\n",
    "    \n",
    "    print(f\"{cname} AUC: {auc_mean:.3f} [{auc_low:.3f}, {auc_high:.3f}]\")\n",
    "\n",
    "# Precision-Recall curves (often more informative for medical applications)\n",
    "plt.figure(figsize=(12, 4))\n",
    "\n",
    "for i, cname in enumerate(CLASS_NAMES):\n",
    "    plt.subplot(1, 3, i+1)\n",
    "    y_true_binary = (labels == i).astype(int)\n",
    "    y_score = probs[:, i]\n",
    "    \n",
    "    precision, recall, _ = precision_recall_curve(y_true_binary, y_score)\n",
    "    ap_score = average_precision_score(y_true_binary, y_score)\n",
    "    \n",
    "    plt.plot(recall, precision, lw=2, label=f'AP = {ap_score:.3f}')\n",
    "    plt.fill_between(recall, precision, alpha=0.2)\n",
    "    plt.xlabel('Recall (Sensitivity)')\n",
    "    plt.ylabel('Precision (PPV)')\n",
    "    plt.title(f'{cname} Precision-Recall')\n",
    "    plt.legend()\n",
    "    plt.grid(True, alpha=0.3)\n",
    "    \n",
    "    # Add baseline (prevalence)\n",
    "    prevalence = np.mean(y_true_binary)\n",
    "    plt.axhline(y=prevalence, color='r', linestyle='--', alpha=0.5, label=f'Baseline = {prevalence:.3f}')\n",
    "\n",
    "plt.tight_layout()\n",
    "plt.show()"
   ]
  },
  {
   "cell_type": "markdown",
   "id": "880fdb82",
   "metadata": {},
   "source": [
    "### calibration plot"
   ]
  },
  {
   "cell_type": "code",
   "execution_count": 8,
   "id": "a75d049f",
   "metadata": {},
   "outputs": [
    {
     "data": {
      "image/png": "[encoded data removed]",
      "text/plain": [
       "<Figure size 1200x400 with 3 Axes>"
      ]
     },
     "metadata": {},
     "output_type": "display_data"
    }
   ],
   "source": [
    "# Enhanced calibration analysis\n",
    "def plot_calibration_with_ci(labels, probs, n_bins=10):\n",
    "    \"\"\"Plot calibration curves with confidence intervals\"\"\"\n",
    "    plt.figure(figsize=(12, 4))\n",
    "    \n",
    "    for i, cname in enumerate(CLASS_NAMES):\n",
    "        plt.subplot(1, 3, i+1)\n",
    "        y_true_binary = (labels == i).astype(int)\n",
    "        y_prob = probs[:, i]\n",
    "        \n",
    "        # Main calibration curve\n",
    "        try:\n",
    "            frac_pos, mean_pred = calibration_curve(y_true_binary, y_prob, n_bins=n_bins)\n",
    "            plt.plot(mean_pred, frac_pos, 'o-', lw=2, label=cname)\n",
    "            \n",
    "            # Perfect calibration line\n",
    "            plt.plot([0, 1], [0, 1], 'k--', alpha=0.5, label='Perfect calibration')\n",
    "            \n",
    "            # Brier score (lower is better)\n",
    "            brier_score = np.mean((y_prob - y_true_binary) ** 2)\n",
    "            plt.text(0.05, 0.95, f'Brier Score: {brier_score:.3f}', \n",
    "                    transform=plt.gca().transAxes, verticalalignment='top',\n",
    "                    bbox=dict(boxstyle='round', facecolor='white', alpha=0.8))\n",
    "            \n",
    "        except ValueError as e:\n",
    "            plt.text(0.5, 0.5, f'Insufficient data for calibration\\n({str(e)})', \n",
    "                    ha='center', va='center', transform=plt.gca().transAxes)\n",
    "        \n",
    "        plt.xlabel('Mean Predicted Probability')\n",
    "        plt.ylabel('Fraction of Positives')\n",
    "        plt.title(f'{cname} Calibration')\n",
    "        plt.legend()\n",
    "        plt.grid(True, alpha=0.3)\n",
    "    \n",
    "    plt.tight_layout()\n",
    "    plt.show()\n",
    "\n",
    "plot_calibration_with_ci(labels, probs)"
   ]
  },
  {
   "cell_type": "markdown",
   "id": "3ed6d7ca",
   "metadata": {},
   "source": [
    "### image-level sensitivity at fixed specificity"
   ]
  },
  {
   "cell_type": "code",
   "execution_count": 9,
   "id": "864d3386",
   "metadata": {},
   "outputs": [],
   "source": [
    "# Clinical threshold analysis with confidence intervals\n",
    "def clinical_threshold_analysis(labels, probs, target_specificity=0.7):\n",
    "    \"\"\"Analyze thresholds for clinical deployment\"\"\"\n",
    "    results = {}\n",
    "    \n",
    "    for i, cname in enumerate(CLASS_NAMES):\n",
    "        y_true_binary = (labels == i).astype(int)\n",
    "        y_score = probs[:, i]\n",
    "        \n",
    "        fpr, tpr, thresholds = roc_curve(y_true_binary, y_score)\n",
    "        specificity = 1 - fpr\n",
    "        \n",
    "        # Find threshold achieving target specificity\n",
    "        valid_indices = specificity >= target_specificity\n",
    "        if np.any(valid_indices):\n",
    "            best_idx = np.argmax(tpr[valid_indices])\n",
    "            actual_idx = np.where(valid_indices)[0][best_idx]\n",
    "            \n",
    "            chosen_threshold = thresholds[actual_idx]\n",
    "            achieved_sensitivity = tpr[actual_idx]\n",
    "            achieved_specificity = specificity[actual_idx]\n",
    "            \n",
    "            # Calculate PPV and NPV at this threshold\n",
    "            y_pred_binary = (y_score >= chosen_threshold).astype(int)\n",
    "            cm_temp = confusion_matrix(y_true_binary, y_pred_binary, labels=[0, 1])\n",
    "            \n",
    "            if cm_temp.shape == (2, 2):\n",
    "                tn, fp, fn, tp = cm_temp.ravel()\n",
    "                ppv = tp / (tp + fp + 1e-8)  # Positive Predictive Value\n",
    "                npv = tn / (tn + fn + 1e-8)  # Negative Predictive Value\n",
    "            else:\n",
    "                ppv = npv = 0.0\n",
    "            \n",
    "            results[cname] = {\n",
    "                'threshold': chosen_threshold,\n",
    "                'sensitivity': achieved_sensitivity,\n",
    "                'specificity': achieved_specificity,\n",
    "                'ppv': ppv,\n",
    "                'npv': npv,\n",
    "                'prevalence': np.mean(y_true_binary)\n",
    "            }\n",
    "        else:\n",
    "            results[cname] = {\n",
    "                'threshold': np.nan,\n",
    "                'sensitivity': 0.0,\n",
    "                'specificity': 0.0,\n",
    "                'ppv': 0.0,\n",
    "                'npv': 0.0,\n",
    "                'prevalence': np.mean(y_true_binary)\n",
    "            }\n",
    "    \n",
    "    return results\n",
    "\n",
    "clinical_results = clinical_threshold_analysis(labels, probs, target_specificity=0.7)"
   ]
  },
  {
   "cell_type": "markdown",
   "id": "4c4d0176",
   "metadata": {},
   "source": [
    "### Create clinical summary table"
   ]
  },
  {
   "cell_type": "code",
   "execution_count": 10,
   "id": "5e6f2894",
   "metadata": {},
   "outputs": [
    {
     "name": "stdout",
     "output_type": "stream",
     "text": [
      "\n",
      "Clinical Deployment Thresholds (Target Specificity ≥ 0.7):\n",
      "            Class Threshold Sensitivity Specificity   PPV   NPV Prevalence\n",
      "         Negative     0.341       0.632       0.842 0.800 0.696      0.500\n",
      "         Positive     0.319       0.400       0.739 0.500 0.654      0.395\n",
      "Suspicious cancer     0.372       0.750       0.765 0.273 0.963      0.105\n"
     ]
    }
   ],
   "source": [
    "# Create clinical summary table\n",
    "clinical_summary = []\n",
    "for cname, metrics in clinical_results.items():\n",
    "    clinical_summary.append({\n",
    "        'Class': cname,\n",
    "        'Threshold': f\"{metrics['threshold']:.3f}\" if not np.isnan(metrics['threshold']) else 'N/A',\n",
    "        'Sensitivity': f\"{metrics['sensitivity']:.3f}\",\n",
    "        'Specificity': f\"{metrics['specificity']:.3f}\",\n",
    "        'PPV': f\"{metrics['ppv']:.3f}\",\n",
    "        'NPV': f\"{metrics['npv']:.3f}\",\n",
    "        'Prevalence': f\"{metrics['prevalence']:.3f}\"\n",
    "    })\n",
    "\n",
    "clinical_df = pd.DataFrame(clinical_summary)\n",
    "print(\"\\nClinical Deployment Thresholds (Target Specificity ≥ 0.7):\")\n",
    "print(clinical_df.to_string(index=False))"
   ]
  },
  {
   "cell_type": "markdown",
   "id": "67808d93",
   "metadata": {},
   "source": [
    "### Error analysis for misclassified cases"
   ]
  },
  {
   "cell_type": "code",
   "execution_count": 11,
   "id": "32b6a9b4",
   "metadata": {},
   "outputs": [
    {
     "name": "stdout",
     "output_type": "stream",
     "text": [
      "\n",
      "Error Analysis: 25 misclassified out of 38 (65.8%)\n",
      "  Negative → Positive: 2 cases (avg confidence: 0.349)\n",
      "  Negative → Suspicious cancer: 9 cases (avg confidence: 0.368)\n",
      "  Positive → Negative: 4 cases (avg confidence: 0.345)\n",
      "  Positive → Suspicious cancer: 10 cases (avg confidence: 0.377)\n"
     ]
    }
   ],
   "source": [
    "# Error analysis for misclassified cases\n",
    "def error_analysis(labels, preds, probs):\n",
    "    \"\"\"Analyze patterns in misclassified cases\"\"\"\n",
    "    misclassified_mask = (labels != preds)\n",
    "    misclassified_indices = np.where(misclassified_mask)[0]\n",
    "    \n",
    "    print(f\"\\nError Analysis: {len(misclassified_indices)} misclassified out of {len(labels)} ({len(misclassified_indices)/len(labels)*100:.1f}%)\")\n",
    "    \n",
    "    # Confusion analysis\n",
    "    for true_class in range(len(CLASS_NAMES)):\n",
    "        for pred_class in range(len(CLASS_NAMES)):\n",
    "            if true_class != pred_class:\n",
    "                mask = (labels == true_class) & (preds == pred_class)\n",
    "                count = np.sum(mask)\n",
    "                if count > 0:\n",
    "                    avg_confidence = np.mean(np.max(probs[mask], axis=1))\n",
    "                    print(f\"  {CLASS_NAMES[true_class]} → {CLASS_NAMES[pred_class]}: {count} cases (avg confidence: {avg_confidence:.3f})\")\n",
    "    \n",
    "    return misclassified_indices\n",
    "\n",
    "misclassified_indices = error_analysis(labels, preds, probs)"
   ]
  },
  {
   "cell_type": "markdown",
   "id": "5dd208b4",
   "metadata": {},
   "source": [
    "### Statistical significance tests"
   ]
  },
  {
   "cell_type": "code",
   "execution_count": 12,
   "id": "a49600bb",
   "metadata": {},
   "outputs": [],
   "source": [
    "# Statistical significance tests\n",
    "def mcnemar_test(y_true, y_pred1, y_pred2):\n",
    "    \"\"\"McNemar's test for comparing two classifiers\"\"\"\n",
    "    # Create contingency table\n",
    "    correct1 = (y_true == y_pred1)\n",
    "    correct2 = (y_true == y_pred2)\n",
    "    \n",
    "    both_correct = np.sum(correct1 & correct2)\n",
    "    only1_correct = np.sum(correct1 & ~correct2)\n",
    "    only2_correct = np.sum(~correct1 & correct2)\n",
    "    both_wrong = np.sum(~correct1 & ~correct2)\n",
    "    \n",
    "    # McNemar's test statistic\n",
    "    if only1_correct + only2_correct == 0:\n",
    "        return None, 1.0  # No difference\n",
    "    \n",
    "    statistic = (abs(only1_correct - only2_correct) - 1)**2 / (only1_correct + only2_correct)\n",
    "    p_value = 1 - stats.chi2.cdf(statistic, 1)\n",
    "    \n",
    "    return statistic, p_value"
   ]
  },
  {
   "cell_type": "markdown",
   "id": "fef999cb",
   "metadata": {},
   "source": [
    "### Export comprehensive results"
   ]
  },
  {
   "cell_type": "code",
   "execution_count": 13,
   "id": "dfbe4b7c",
   "metadata": {},
   "outputs": [
    {
     "name": "stdout",
     "output_type": "stream",
     "text": [
      "\n",
      "Saved comprehensive results to comprehensive_evaluation.json and clinical_thresholds.csv\n",
      "\n",
      "==================================================\n",
      "CLINICAL DEPLOYMENT RECOMMENDATIONS\n",
      "==================================================\n",
      "For 'Suspicious Cancer' screening:\n",
      "• Recommended threshold: 0.372\n",
      "• Expected sensitivity: 0.750\n",
      "• Expected specificity: 0.765\n",
      "• Positive Predictive Value: 0.273\n",
      "• Negative Predictive Value: 0.963\n",
      "• AUC: 0.749 [0.486, 1.000]\n",
      "• Prevalence in test set: 0.105\n",
      "• ⚠ Model may need refinement for clinical deployment\n",
      "==================================================\n"
     ]
    }
   ],
   "source": [
    "# Export comprehensive results\n",
    "comprehensive_results = {\n",
    "    'dataset_info': {\n",
    "        'n_samples': len(labels),\n",
    "        'class_distribution': {CLASS_NAMES[i]: int(np.sum(labels == i)) for i in range(len(CLASS_NAMES))}\n",
    "    },\n",
    "    'classification_report': report,\n",
    "    'confusion_matrix': cm.tolist(),\n",
    "    'auc_with_ci': {cname: {'mean': float(auc_results[cname][0]), \n",
    "                            'ci_lower': float(auc_results[cname][1]), \n",
    "                            'ci_upper': float(auc_results[cname][2])} \n",
    "                    for cname in CLASS_NAMES},\n",
    "    'clinical_thresholds': {cname: {k: float(v) if not isinstance(v, str) else v \n",
    "                                   for k, v in clinical_results[cname].items()} \n",
    "                           for cname in CLASS_NAMES},\n",
    "    'error_analysis': {\n",
    "        'total_errors': int(len(misclassified_indices)),\n",
    "        'error_rate': float(len(misclassified_indices) / len(labels))\n",
    "    }\n",
    "}\n",
    "\n",
    "# Save comprehensive results\n",
    "with open(\"comprehensive_evaluation.json\", \"w\") as f:\n",
    "    json.dump(comprehensive_results, f, indent=2)\n",
    "\n",
    "clinical_df.to_csv(\"clinical_thresholds.csv\", index=False)\n",
    "\n",
    "print(f\"\\nSaved comprehensive results to comprehensive_evaluation.json and clinical_thresholds.csv\")\n",
    "\n",
    "# Final clinical recommendation summary\n",
    "print(\"\\n\" + \"=\"*50)\n",
    "print(\"CLINICAL DEPLOYMENT RECOMMENDATIONS\")\n",
    "print(\"=\"*50)\n",
    "\n",
    "suspicious_idx = CLASS_NAMES.index(\"Suspicious cancer\")\n",
    "if \"Suspicious cancer\" in clinical_results:\n",
    "    metrics = clinical_results[\"Suspicious cancer\"]\n",
    "    auc_info = auc_results[\"Suspicious cancer\"]\n",
    "    \n",
    "    print(f\"For 'Suspicious Cancer' screening:\")\n",
    "    print(f\"• Recommended threshold: {metrics['threshold']:.3f}\")\n",
    "    print(f\"• Expected sensitivity: {metrics['sensitivity']:.3f}\")\n",
    "    print(f\"• Expected specificity: {metrics['specificity']:.3f}\")\n",
    "    print(f\"• Positive Predictive Value: {metrics['ppv']:.3f}\")\n",
    "    print(f\"• Negative Predictive Value: {metrics['npv']:.3f}\")\n",
    "    print(f\"• AUC: {auc_info[0]:.3f} [{auc_info[1]:.3f}, {auc_info[2]:.3f}]\")\n",
    "    print(f\"• Prevalence in test set: {metrics['prevalence']:.3f}\")\n",
    "    \n",
    "    if metrics['sensitivity'] >= 0.8 and metrics['specificity'] >= 0.7:\n",
    "        print(f\"• ✓ Model meets clinical screening criteria\")\n",
    "    else:\n",
    "        print(f\"• ⚠ Model may need refinement for clinical deployment\")\n",
    "\n",
    "print(\"=\"*50)"
   ]
  }
 ],
 "metadata": {
  "kernelspec": {
   "display_name": "venv-ave",
   "language": "python",
   "name": "python3"
  },
  "language_info": {
   "codemirror_mode": {
    "name": "ipython",
    "version": 3
   },
   "file_extension": ".py",
   "mimetype": "text/x-python",
   "name": "python",
   "nbconvert_exporter": "python",
   "pygments_lexer": "ipython3",
   "version": "3.11.9"
  }
 },
 "nbformat": 4,
 "nbformat_minor": 5
}
